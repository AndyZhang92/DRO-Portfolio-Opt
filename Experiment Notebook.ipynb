{
 "cells": [
  {
   "cell_type": "code",
   "execution_count": 2,
   "metadata": {},
   "outputs": [],
   "source": [
    "from config import Configuration\n",
    "from utils import *\n",
    "from model import *\n",
    "import pickle\n",
    "import time\n",
    "import scipy\n",
    "from experiment import DR_Markowitz_Experiment\n",
    "%matplotlib inline"
   ]
  },
  {
   "cell_type": "code",
   "execution_count": 3,
   "metadata": {},
   "outputs": [
    {
     "data": {
      "text/plain": [
       "mappingproxy({'__module__': 'config',\n",
       "              '__doc__': '\\n    Class that saves the value of Default Parameters\\n    ',\n",
       "              'learning_rate': 0.05,\n",
       "              'max_iter': 500,\n",
       "              'tol': 1e-08,\n",
       "              'model_name': 'Default Model',\n",
       "              'fit_intercept': False,\n",
       "              'regularization': 0.1,\n",
       "              'delta': 0.1,\n",
       "              'gamma': 0,\n",
       "              'A': 1,\n",
       "              '__dict__': <attribute '__dict__' of 'Configuration' objects>,\n",
       "              '__weakref__': <attribute '__weakref__' of 'Configuration' objects>})"
      ]
     },
     "execution_count": 3,
     "metadata": {},
     "output_type": "execute_result"
    }
   ],
   "source": [
    "# Show the default configuration\n",
    "Configuration.__dict__"
   ]
  },
  {
   "cell_type": "markdown",
   "metadata": {},
   "source": [
    "# Experiment with Simulated Data"
   ]
  },
  {
   "cell_type": "code",
   "execution_count": null,
   "metadata": {},
   "outputs": [],
   "source": [
    "\"\"\"\n",
    "Experiement for Linear Regression Gradient Descent Model\n",
    "\"\"\"\n",
    "true_var = np.random.rand(5)\n",
    "X, y = LinearRegressionDataGenerator(true_var).generate(50)\n",
    "my_LR_model = LinearRegressionGradientDescent(X=X, y=y)\n",
    "my_LR_model.optimize(verbose = False)\n",
    "#Check the accuracy of the solution\n",
    "#my_LR_model.var - np.linalg.lstsq(X,y,rcond=None)[0]\n",
    "my_LR_model.plot_loss_path()\n",
    "print(my_LR_model.var)"
   ]
  },
  {
   "cell_type": "code",
   "execution_count": null,
   "metadata": {},
   "outputs": [],
   "source": [
    "\"\"\"\n",
    "Experiement for Linear Regression DRO\n",
    "\"\"\"\n",
    "DR_linear_model = DistRobustLinearRegression(X=X, y=y)\n",
    "start = time.time()\n",
    "DR_linear_model.optimize(verbose = False, grad_method = 'analytic')\n",
    "end = time.time()\n",
    "print(\"Elapsed time = %s\" % (end - start))\n",
    "DR_linear_model.plot_loss_path()\n",
    "DR_linear_model.plot_lambda_path()\n",
    "print(DR_linear_model.var)"
   ]
  },
  {
   "cell_type": "code",
   "execution_count": null,
   "metadata": {},
   "outputs": [],
   "source": [
    "\"\"\"\n",
    "Experiment for DR-Markowitz model\n",
    "\"\"\"\n",
    "DR_Markowitz_Model = DistRobustMarkowitz(X = np.random.randn(50, 5))\n",
    "print(DR_Markowitz_Model.gradient(method = 'numeric'))\n",
    "print(DR_Markowitz_Model.gradient(method = 'analytic'))\n",
    "start = time.time()\n",
    "DR_Markowitz_Model.optimize(verbose = False, grad_method = 'analytic')\n",
    "end = time.time()\n",
    "print(\"Elapsed time = %s\" % (end - start))\n",
    "DR_Markowitz_Model.plot_loss_path()\n",
    "DR_Markowitz_Model.plot_lambda_path()\n",
    "print(DR_Markowitz_Model.var)"
   ]
  },
  {
   "cell_type": "markdown",
   "metadata": {},
   "source": [
    "# Real Data Experiment"
   ]
  },
  {
   "cell_type": "code",
   "execution_count": null,
   "metadata": {},
   "outputs": [],
   "source": []
  },
  {
   "cell_type": "code",
   "execution_count": null,
   "metadata": {},
   "outputs": [],
   "source": [
    "experiment = DR_Markowitz_Experiment(\"../\")\n",
    "reg = 0.1\n",
    "delta_list = [10]\n",
    "method_list = ['covariance']\n",
    "for delta in delta_list:\n",
    "    for method in method_list:\n",
    "        Configuration.delta = delta\n",
    "        Configuration.regularization = reg\n",
    "        returns_mat = experiment.portfolio_return(method = method)\n",
    "        filename = \"delta_{}_reg_{}_method_{}\".format(delta, reg, method)\n",
    "        pickle.dump(returns_mat, open(filename, \"wb\" ))\n",
    "        temp = np.cumprod(1+returns_mat, axis=1)\n",
    "        bins = np.linspace(0,8,40)\n",
    "        a = plt.hist(temp[:,-1], bins, facecolor='c', alpha=0.3)\n",
    "        np.mean(temp[:,-1])"
   ]
  },
  {
   "cell_type": "code",
   "execution_count": null,
   "metadata": {},
   "outputs": [],
   "source": [
    "experiment = DR_Markowitz_Experiment(\"../\")\n",
    "delta = 0.1\n",
    "reg = 0.1\n",
    "method = 'covariance'\n",
    "Configuration.delta = delta\n",
    "Configuration.regularization = reg\n",
    "returns_mat = experiment.portfolio_return(method = method)\n",
    "filename = \"delta_{}_reg_{}_method_{}\".format(delta, reg, method)\n",
    "pickle.dump(returns_mat, open(filename, \"wb\" ))\n",
    "temp = np.cumprod(1+returns_mat, axis=1)\n",
    "bins = np.linspace(0,8,40)\n",
    "a = plt.hist(temp[:,-1], bins, facecolor='c', alpha=0.3)\n",
    "np.mean(temp[:,-1])"
   ]
  },
  {
   "cell_type": "code",
   "execution_count": null,
   "metadata": {},
   "outputs": [],
   "source": [
    "experiment = DR_Markowitz_Experiment(\"../\")\n",
    "reg = 0.1\n",
    "method = 'covariance'\n",
    "Configuration.delta = delta\n",
    "Configuration.regularization = reg\n",
    "returns_mat = experiment.portfolio_return(method = method)\n",
    "filename = \"delta_{}_reg_{}_method_{}\".format(delta, reg, method)\n",
    "pickle.dump(returns_mat, open(filename, \"wb\" ))\n",
    "temp = np.cumprod(1+returns_mat, axis=1)\n",
    "bins = np.linspace(0,8,40)\n",
    "a = plt.hist(temp[:,-1], bins, facecolor='c', alpha=0.3)\n",
    "np.mean(temp[:,-1])"
   ]
  },
  {
   "cell_type": "code",
   "execution_count": null,
   "metadata": {},
   "outputs": [],
   "source": [
    "experiment = DR_Markowitz_Experiment(\"../\")\n",
    "delta = 0.5\n",
    "reg = 0.1\n",
    "method = 'constant'\n",
    "Configuration.delta = delta\n",
    "Configuration.regularization = reg\n",
    "returns_mat = experiment.portfolio_return(method = method)\n",
    "filename = \"delta_{}_reg_{}_method_{}\".format(delta, reg, method)\n",
    "pickle.dump(returns_mat, open(filename, \"wb\" ))\n",
    "temp = np.cumprod(1+returns_mat, axis=1)\n",
    "bins = np.linspace(0,8,40)\n",
    "a = plt.hist(temp[:,-1], bins, facecolor='c', alpha=0.3)\n",
    "np.mean(temp[:,-1])"
   ]
  },
  {
   "cell_type": "code",
   "execution_count": null,
   "metadata": {},
   "outputs": [],
   "source": [
    "delta = 0.1\n",
    "reg = 0.1\n",
    "method = 'covariance'\n",
    "filename = \"delta_{}_reg_{}_method_{}\".format(delta, reg, method)\n",
    "returns_mat = pickle.load(open(filename, \"rb\" ))\n",
    "temp = np.cumprod(1+returns_mat, axis=1)\n",
    "temp = (np.exp(np.log(temp[:,-1])/18) - 1)*100\n",
    "bins = np.linspace(2,10,20)\n",
    "a = plt.hist(temp, bins, facecolor='c', alpha=0.3)\n",
    "np.mean(temp)"
   ]
  },
  {
   "cell_type": "code",
   "execution_count": null,
   "metadata": {},
   "outputs": [],
   "source": [
    "reg = 0.1\n",
    "delta_list = (0.01,0.1,0.2,0.3,0.4)\n",
    "method_list = ('local', 'constant','covariance')\n",
    "for delta in delta_list:\n",
    "    for method in method_list:\n",
    "        filename = \"delta_{}_reg_{}_method_{}\".format(delta, reg, method)\n",
    "        returns_mat = pickle.load(open(filename, \"rb\" ))\n",
    "        temp = np.cumprod(1+returns_mat, axis=1)\n",
    "        mean = np.mean(returns_mat)*12\n",
    "        std = np.std(returns_mat)*np.sqrt(12)\n",
    "        print('{}'.format(filename))\n",
    "        print('annual expected return: {}'.format(mean))\n",
    "        print('annual std: {}'.format(std))\n",
    "        print('sharp ratio: {}'.format(mean/std))"
   ]
  },
  {
   "cell_type": "code",
   "execution_count": null,
   "metadata": {},
   "outputs": [],
   "source": [
    "experiment = DR_Markowitz_Experiment(\"../\")\n",
    "delta = 0.1\n",
    "reg = 0.1\n",
    "Configuration.delta = delta\n",
    "Configuration.regularization = reg\n",
    "seed, month, method = 1,1,'covariance'\n",
    "returns_train, returns_test = experiment.load_returns(seed, month)\n",
    "A = experiment.get_mahalanobis_matrix(seed, month, method = method)\n",
    "model = DistRobustMarkowitz(X = returns_train, A = A)\n",
    "model.optimize(verbose = True, grad_method = 'analytic')\n",
    "model.plot_loss_path()\n",
    "model.plot_lambda_path()\n",
    "one_step_return = returns_test.dot(model.beta)"
   ]
  },
  {
   "cell_type": "code",
   "execution_count": 19,
   "metadata": {},
   "outputs": [
    {
     "data": {
      "image/png": "[encoded data removed]",
      "text/plain": [
       "<Figure size 432x288 with 1 Axes>"
      ]
     },
     "metadata": {
      "needs_background": "light"
     },
     "output_type": "display_data"
    }
   ],
   "source": [
    "delta_list = (0.01,0.1,0.2,0.3,0.4)\n",
    "color_list = ('red', 'pink','green','orange','cyan')\n",
    "reg_list = [0.1,0.3,0.5,0.7,1]\n",
    "marker_list = ['X','s','D','^','P']\n",
    "from matplotlib.lines import Line2D\n",
    "from matplotlib.patches import Patch\n",
    "legend_elements = [Line2D([0], [0], marker= mk, label='$\\mu$ = {}'.format(reg),\n",
    "                  markersize=6, linewidth = 0) for mk,reg in zip(marker_list,reg_list)]\n",
    "legend_elements_2 = [Patch(color = c, label='$\\delta$ = {}'.format(d)) for c,d in zip(color_list,delta_list)]\n",
    "legend_elements_2 += [Line2D([0], [0], ls = '-', label='constant model'), \n",
    "                     Line2D([0], [0], ls = ':', label='local model')]\n",
    "\n",
    "fig = plt.figure()\n",
    "ax = fig.add_subplot(111)\n",
    "\n",
    "for delta, color in zip(delta_list,color_list):\n",
    "    mean_list = []\n",
    "    std_list = []\n",
    "    \n",
    "    method = 'constant'\n",
    "    for idx, reg in enumerate(reg_list):\n",
    "        filename = \"delta_{}_reg_{}_method_{}\".format(delta, reg, method)\n",
    "        returns_mat = pickle.load(open(filename, \"rb\" ))\n",
    "        temp = np.cumprod(1+returns_mat, axis=1)\n",
    "        mean = np.mean(returns_mat)*12\n",
    "        std = np.std(returns_mat)*np.sqrt(12)\n",
    "        mean_list.append(mean)\n",
    "        std_list.append(std)\n",
    "        ax.plot(std_list, mean_list,'-', c=color)\n",
    "    \n",
    "    for idx, reg in enumerate(reg_list):\n",
    "        ax.scatter(std_list[idx], mean_list[idx], c=color, marker = marker_list[idx], linewidths = 1)\n",
    "    \n",
    "    method = 'local'\n",
    "    mean_list = []\n",
    "    std_list = []\n",
    "    for reg in reg_list:\n",
    "        filename = \"delta_{}_reg_{}_method_{}\".format(delta, reg, method)\n",
    "        returns_mat = pickle.load(open(filename, \"rb\" ))\n",
    "        temp = np.cumprod(1+returns_mat, axis=1)\n",
    "        mean = np.mean(returns_mat)*12\n",
    "        std = np.std(returns_mat)*np.sqrt(12)\n",
    "        mean_list.append(mean)\n",
    "        std_list.append(std)\n",
    "    ax.plot(std_list, mean_list,':', c=color)\n",
    "    \n",
    "    for idx, reg in enumerate(reg_list):\n",
    "        ax.scatter(std_list[idx], mean_list[idx], c=color, marker = marker_list[idx], linewidths = 1)\n",
    "plt.xlabel('Standard Deviation')\n",
    "plt.ylabel('Mean Return')\n",
    "plt.ylim(0.04,0.085)\n",
    "plt.xlim(0.135,0.2)\n",
    "leg1 = ax.legend(handles=legend_elements_2, loc='upper right')\n",
    "ax.legend(handles=legend_elements, loc='lower left')\n",
    "ax.add_artist(leg1)\n",
    "plt.savefig('out_of_sample_frontier.pdf', format = 'pdf')"
   ]
  },
  {
   "cell_type": "markdown",
   "metadata": {},
   "source": [
    "# Experiment using simulated data"
   ]
  },
  {
   "cell_type": "code",
   "execution_count": 27,
   "metadata": {},
   "outputs": [
    {
     "name": "stdout",
     "output_type": "stream",
     "text": [
      "delta = 0.01, reg = 0\n"
     ]
    },
    {
     "name": "stderr",
     "output_type": "stream",
     "text": [
      "                                                   "
     ]
    },
    {
     "name": "stdout",
     "output_type": "stream",
     "text": [
      "delta = 0.1, reg = 0\n"
     ]
    },
    {
     "name": "stderr",
     "output_type": "stream",
     "text": [
      "                                                  \r"
     ]
    },
    {
     "name": "stdout",
     "output_type": "stream",
     "text": [
      "delta = 0.2, reg = 0\n"
     ]
    },
    {
     "name": "stderr",
     "output_type": "stream",
     "text": [
      "                                                  "
     ]
    },
    {
     "name": "stdout",
     "output_type": "stream",
     "text": [
      "delta = 0.3, reg = 0\n"
     ]
    },
    {
     "name": "stderr",
     "output_type": "stream",
     "text": [
      "                                                   "
     ]
    },
    {
     "name": "stdout",
     "output_type": "stream",
     "text": [
      "delta = 0.4, reg = 0\n"
     ]
    },
    {
     "name": "stderr",
     "output_type": "stream",
     "text": [
      "                                                  \r"
     ]
    }
   ],
   "source": [
    "delta_list = (0.01,0.1,0.2,0.3,0.4)\n",
    "reg_list = [0]\n",
    "for delta in delta_list:\n",
    "    for reg in reg_list:\n",
    "        Configuration.delta = delta\n",
    "        Configuration.regularization = reg\n",
    "        method = 'constant'\n",
    "        print('delta = {a}, reg = {b}'.format(a = delta, b = reg))\n",
    "        experiment = DR_Markowitz_Experiment(\"../\")\n",
    "        returns_train, returns_test = experiment.load_returns(2,1)\n",
    "        exp_mean = np.mean(returns_train,axis = 0)\n",
    "        exp_cov = np.cov(returns_train.T)\n",
    "        return_list = experiment.simulated_portfolio_return(exp_mean, exp_cov)\n",
    "        filename = \"./Simulated_Result/simulated_delta_{}_reg_{}_method_{}\".format(delta, reg, method)\n",
    "        pickle.dump(return_list, open(filename, \"wb\" ))"
   ]
  },
  {
   "cell_type": "code",
   "execution_count": 18,
   "metadata": {},
   "outputs": [
    {
     "data": {
      "image/png": "[encoded data removed]",
      "text/plain": [
       "<Figure size 432x288 with 1 Axes>"
      ]
     },
     "metadata": {
      "needs_background": "light"
     },
     "output_type": "display_data"
    }
   ],
   "source": [
    "delta_list = (0.01,0.1,0.2,0.3,0.4)\n",
    "color_list = ('red', 'pink','green','orange','cyan')\n",
    "reg_list = [0,0.1,0.3,0.5,0.7]\n",
    "marker_list = ['X','s','D','^','P']\n",
    "from matplotlib.lines import Line2D\n",
    "from matplotlib.patches import Patch\n",
    "legend_elements = [Line2D([0], [0], marker= mk, label='$\\mu$ = {}'.format(reg),\n",
    "                  markersize=6, linewidth = 0) for mk,reg in zip(marker_list,reg_list)]\n",
    "legend_elements_2 = [Patch(color = c, label='$\\delta$ = {}'.format(d)) for c,d in zip(color_list,delta_list)]\n",
    "\n",
    "fig = plt.figure()\n",
    "ax = fig.add_subplot(111)\n",
    "\n",
    "for delta, color in zip(delta_list,color_list):\n",
    "    mean_list = []\n",
    "    std_list = []\n",
    "    \n",
    "    method = 'constant'\n",
    "    for idx, reg in enumerate(reg_list):\n",
    "        filename = \"./Simulated_Result/simulated_delta_{}_reg_{}_method_{}\".format(delta, reg, method)\n",
    "        returns_mat = pickle.load(open(filename, \"rb\" ))\n",
    "        mean = np.mean(returns_mat)\n",
    "        std = np.std(returns_mat)\n",
    "        mean_list.append(mean)\n",
    "        std_list.append(std)\n",
    "        ax.plot(std_list, mean_list,'-', c=color)\n",
    "    \n",
    "    for idx, reg in enumerate(reg_list):\n",
    "        ax.scatter(std_list[idx], mean_list[idx], c=color, marker = marker_list[idx], linewidths = 1)\n",
    "    \n",
    "plt.xlabel('Standard Deviation')\n",
    "plt.ylabel('Mean Return')\n",
    "plt.xlim(0.07,0.14)\n",
    "plt.ylim(0.12,0.28)\n",
    "leg1 = ax.legend(handles=legend_elements_2, loc='upper left')\n",
    "ax.legend(handles=legend_elements, loc='lower right')\n",
    "ax.add_artist(leg1)\n",
    "plt.savefig('simulated_out_of_sample_frontier.pdf', format = 'pdf')"
   ]
  },
  {
   "cell_type": "code",
   "execution_count": 10,
   "metadata": {},
   "outputs": [
    {
     "data": {
      "text/plain": [
       "0.07808352377506741"
      ]
     },
     "execution_count": 10,
     "metadata": {},
     "output_type": "execute_result"
    }
   ],
   "source": []
  },
  {
   "cell_type": "code",
   "execution_count": null,
   "metadata": {},
   "outputs": [],
   "source": []
  }
 ],
 "metadata": {
  "kernelspec": {
   "display_name": "Python 3",
   "language": "python",
   "name": "python3"
  },
  "language_info": {
   "codemirror_mode": {
    "name": "ipython",
    "version": 3
   },
   "file_extension": ".py",
   "mimetype": "text/x-python",
   "name": "python",
   "nbconvert_exporter": "python",
   "pygments_lexer": "ipython3",
   "version": "3.6.8"
  }
 },
 "nbformat": 4,
 "nbformat_minor": 2
}
